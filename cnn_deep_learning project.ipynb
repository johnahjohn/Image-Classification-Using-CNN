{
  "nbformat": 4,
  "nbformat_minor": 0,
  "metadata": {
    "kernel_info": {
      "name": "python3"
    },
    "language_info": {
      "name": "python",
      "version": "3.7.4",
      "mimetype": "text/x-python",
      "codemirror_mode": {
        "name": "ipython",
        "version": 3
      },
      "pygments_lexer": "ipython3",
      "nbconvert_exporter": "python",
      "file_extension": ".py"
    },
    "kernelspec": {
      "name": "python3",
      "language": "python",
      "display_name": "Python 3"
    },
    "nteract": {
      "version": "0.12.3"
    },
    "colab": {
      "name": "air,car,cat,dog,flow,fru,bike,per.ipynb",
      "provenance": [],
      "collapsed_sections": []
    },
    "accelerator": "GPU"
  },
  "cells": [
    {
      "cell_type": "code",
      "metadata": {
        "colab": {
          "base_uri": "https://localhost:8080/"
        },
        "id": "kt5NJJV_ioj7",
        "outputId": "c0b11771-6a9a-4ea9-f9f7-47e8c0ddbb3d"
      },
      "source": [
        "from google.colab import drive\n",
        "drive.mount('/content/drive')"
      ],
      "execution_count": 10,
      "outputs": [
        {
          "output_type": "stream",
          "text": [
            "Mounted at /content/drive\n"
          ],
          "name": "stdout"
        }
      ]
    },
    {
      "cell_type": "code",
      "metadata": {
        "outputHidden": false,
        "inputHidden": false,
        "id": "CTBPbQ0IiR9A"
      },
      "source": [
        "from keras.preprocessing.image import ImageDataGenerator \n",
        "from keras.models import Sequential \n",
        "from keras.layers import Conv2D, MaxPooling2D \n",
        "from keras.layers import Activation, Dropout, Flatten, Dense \n",
        "from keras import backend as K "
      ],
      "execution_count": 11,
      "outputs": []
    },
    {
      "cell_type": "code",
      "metadata": {
        "outputHidden": false,
        "inputHidden": false,
        "id": "6yT7r6XOiR9H"
      },
      "source": [
        "img_width, img_height = 150, 150\n",
        "if K.image_data_format() == 'channels_first': \n",
        "    input_shape = (3, img_width, img_height) \n",
        "else: \n",
        "    input_shape = (img_width, img_height, 3) \n"
      ],
      "execution_count": 12,
      "outputs": []
    },
    {
      "cell_type": "code",
      "metadata": {
        "outputHidden": false,
        "inputHidden": false,
        "id": "PTMc_Tx6iR9I"
      },
      "source": [
        "train_data_dir = '/content/drive/MyDrive/Datasets_classification/train'\n",
        "validation_data_dir = '/content/drive/MyDrive/Datasets_classification/test'\n"
      ],
      "execution_count": 13,
      "outputs": []
    },
    {
      "cell_type": "code",
      "metadata": {
        "outputHidden": false,
        "inputHidden": false,
        "id": "C2Y08ZUIiR9I"
      },
      "source": [
        "model = Sequential() \n",
        "model.add(Conv2D(32, (2, 2), input_shape = input_shape)) \n",
        "model.add(Activation('relu')) \n",
        "model.add(MaxPooling2D(pool_size =(2, 2))) \n",
        "  \n",
        "model.add(Conv2D(32, (2, 2))) \n",
        "model.add(Activation('relu')) \n",
        "model.add(MaxPooling2D(pool_size =(2, 2))) \n",
        "  \n",
        "model.add(Conv2D(64, (2, 2))) \n",
        "model.add(Activation('relu')) \n",
        "model.add(MaxPooling2D(pool_size =(2, 2))) \n",
        "  \n",
        "model.add(Flatten()) \n",
        "model.add(Dense(64)) \n",
        "model.add(Activation('relu')) \n",
        "model.add(Dropout(0.5)) \n",
        "model.add(Dense(8)) \n",
        "model.add(Activation('sigmoid')) \n",
        "  \n",
        "model.compile(loss ='binary_crossentropy', \n",
        "                     optimizer ='rmsprop', \n",
        "                   metrics =['accuracy']) "
      ],
      "execution_count": 22,
      "outputs": []
    },
    {
      "cell_type": "code",
      "metadata": {
        "colab": {
          "base_uri": "https://localhost:8080/"
        },
        "id": "1ly7j3pULJZN",
        "outputId": "f666eece-13c7-4aa1-82cd-f606f02c075b"
      },
      "source": [
        "model.summary()"
      ],
      "execution_count": 23,
      "outputs": [
        {
          "output_type": "stream",
          "text": [
            "Model: \"sequential_2\"\n",
            "_________________________________________________________________\n",
            "Layer (type)                 Output Shape              Param #   \n",
            "=================================================================\n",
            "conv2d_6 (Conv2D)            (None, 149, 149, 32)      416       \n",
            "_________________________________________________________________\n",
            "activation_10 (Activation)   (None, 149, 149, 32)      0         \n",
            "_________________________________________________________________\n",
            "max_pooling2d_6 (MaxPooling2 (None, 74, 74, 32)        0         \n",
            "_________________________________________________________________\n",
            "conv2d_7 (Conv2D)            (None, 73, 73, 32)        4128      \n",
            "_________________________________________________________________\n",
            "activation_11 (Activation)   (None, 73, 73, 32)        0         \n",
            "_________________________________________________________________\n",
            "max_pooling2d_7 (MaxPooling2 (None, 36, 36, 32)        0         \n",
            "_________________________________________________________________\n",
            "conv2d_8 (Conv2D)            (None, 35, 35, 64)        8256      \n",
            "_________________________________________________________________\n",
            "activation_12 (Activation)   (None, 35, 35, 64)        0         \n",
            "_________________________________________________________________\n",
            "max_pooling2d_8 (MaxPooling2 (None, 17, 17, 64)        0         \n",
            "_________________________________________________________________\n",
            "flatten_2 (Flatten)          (None, 18496)             0         \n",
            "_________________________________________________________________\n",
            "dense_4 (Dense)              (None, 64)                1183808   \n",
            "_________________________________________________________________\n",
            "activation_13 (Activation)   (None, 64)                0         \n",
            "_________________________________________________________________\n",
            "dropout_2 (Dropout)          (None, 64)                0         \n",
            "_________________________________________________________________\n",
            "dense_5 (Dense)              (None, 8)                 520       \n",
            "_________________________________________________________________\n",
            "activation_14 (Activation)   (None, 8)                 0         \n",
            "=================================================================\n",
            "Total params: 1,197,128\n",
            "Trainable params: 1,197,128\n",
            "Non-trainable params: 0\n",
            "_________________________________________________________________\n"
          ],
          "name": "stdout"
        }
      ]
    },
    {
      "cell_type": "code",
      "metadata": {
        "outputHidden": false,
        "inputHidden": false,
        "id": "MBSs27bEiR9I"
      },
      "source": [
        "train_datagen = ImageDataGenerator(rescale=1. / 255,\n",
        "                                   shear_range=0.2, \n",
        "                                  zoom_range=0.2, \n",
        "                                  horizontal_flip=True) "
      ],
      "execution_count": 24,
      "outputs": []
    },
    {
      "cell_type": "code",
      "metadata": {
        "outputHidden": false,
        "inputHidden": false,
        "id": "pn8CzsqAiR9J"
      },
      "source": [
        "test_datagen = ImageDataGenerator(rescale=1. / 255) \n",
        "  "
      ],
      "execution_count": 25,
      "outputs": []
    },
    {
      "cell_type": "code",
      "metadata": {
        "id": "tucHPKGy2vnM"
      },
      "source": [
        "nb_train_samples = 6899 \r\n",
        "nb_validation_samples = 2054\r\n",
        "epochs = 25\r\n",
        "batch_size = 16"
      ],
      "execution_count": 26,
      "outputs": []
    },
    {
      "cell_type": "code",
      "metadata": {
        "outputHidden": false,
        "inputHidden": false,
        "colab": {
          "base_uri": "https://localhost:8080/"
        },
        "id": "MsOZ9l4qiR9J",
        "outputId": "4cb44029-588f-4589-927b-779dccf9b999"
      },
      "source": [
        "train_generator = train_datagen.flow_from_directory( \n",
        "    train_data_dir, \n",
        "    target_size=(img_width, img_height), \n",
        "    batch_size=batch_size, \n",
        "    class_mode='categorical') "
      ],
      "execution_count": 27,
      "outputs": [
        {
          "output_type": "stream",
          "text": [
            "Found 6899 images belonging to 8 classes.\n"
          ],
          "name": "stdout"
        }
      ]
    },
    {
      "cell_type": "code",
      "metadata": {
        "outputHidden": false,
        "inputHidden": false,
        "id": "k3XOMnpqiR9J",
        "colab": {
          "base_uri": "https://localhost:8080/"
        },
        "outputId": "513bdef8-b51e-48fe-8c77-66c335fc8097"
      },
      "source": [
        "validation_generator = test_datagen.flow_from_directory( \n",
        "    validation_data_dir, \n",
        "    target_size=(img_width, img_height), \n",
        "    batch_size=batch_size, \n",
        "    class_mode='categorical') "
      ],
      "execution_count": 28,
      "outputs": [
        {
          "output_type": "stream",
          "text": [
            "Found 2054 images belonging to 8 classes.\n"
          ],
          "name": "stdout"
        }
      ]
    },
    {
      "cell_type": "code",
      "metadata": {
        "outputHidden": false,
        "inputHidden": false,
        "id": "sf38hVAAiR9K",
        "colab": {
          "base_uri": "https://localhost:8080/"
        },
        "outputId": "34fcaf45-bde6-4d9e-8df8-721e3afeee8d"
      },
      "source": [
        "c=model.fit_generator( \n",
        "    train_generator, \n",
        "    steps_per_epoch=nb_train_samples // batch_size, \n",
        "    epochs=epochs, \n",
        "    validation_data=validation_generator, \n",
        "    validation_steps=nb_validation_samples // batch_size) "
      ],
      "execution_count": 29,
      "outputs": [
        {
          "output_type": "stream",
          "text": [
            "/usr/local/lib/python3.6/dist-packages/tensorflow/python/keras/engine/training.py:1844: UserWarning: `Model.fit_generator` is deprecated and will be removed in a future version. Please use `Model.fit`, which supports generators.\n",
            "  warnings.warn('`Model.fit_generator` is deprecated and '\n"
          ],
          "name": "stderr"
        },
        {
          "output_type": "stream",
          "text": [
            "Epoch 1/25\n",
            "431/431 [==============================] - 3095s 7s/step - loss: 0.3440 - accuracy: 0.3967 - val_loss: 0.1161 - val_accuracy: 0.8057\n",
            "Epoch 2/25\n",
            "431/431 [==============================] - 55s 128ms/step - loss: 0.1633 - accuracy: 0.7450 - val_loss: 0.0850 - val_accuracy: 0.8667\n",
            "Epoch 3/25\n",
            "431/431 [==============================] - 55s 127ms/step - loss: 0.1273 - accuracy: 0.8112 - val_loss: 0.0830 - val_accuracy: 0.8779\n",
            "Epoch 4/25\n",
            "431/431 [==============================] - 56s 129ms/step - loss: 0.1125 - accuracy: 0.8333 - val_loss: 0.0589 - val_accuracy: 0.9097\n",
            "Epoch 5/25\n",
            "431/431 [==============================] - 55s 127ms/step - loss: 0.1034 - accuracy: 0.8563 - val_loss: 0.0682 - val_accuracy: 0.8960\n",
            "Epoch 6/25\n",
            "431/431 [==============================] - 55s 127ms/step - loss: 0.0976 - accuracy: 0.8601 - val_loss: 0.0732 - val_accuracy: 0.8887\n",
            "Epoch 7/25\n",
            "431/431 [==============================] - 54s 126ms/step - loss: 0.1026 - accuracy: 0.8488 - val_loss: 0.0686 - val_accuracy: 0.9199\n",
            "Epoch 8/25\n",
            "431/431 [==============================] - 54s 126ms/step - loss: 0.0948 - accuracy: 0.8677 - val_loss: 0.0582 - val_accuracy: 0.9175\n",
            "Epoch 9/25\n",
            "431/431 [==============================] - 55s 127ms/step - loss: 0.0958 - accuracy: 0.8675 - val_loss: 0.0503 - val_accuracy: 0.9307\n",
            "Epoch 10/25\n",
            "431/431 [==============================] - 55s 128ms/step - loss: 0.0915 - accuracy: 0.8738 - val_loss: 0.0738 - val_accuracy: 0.8979\n",
            "Epoch 11/25\n",
            "431/431 [==============================] - 55s 127ms/step - loss: 0.1002 - accuracy: 0.8645 - val_loss: 0.0750 - val_accuracy: 0.8994\n",
            "Epoch 12/25\n",
            "431/431 [==============================] - 54s 126ms/step - loss: 0.0980 - accuracy: 0.8593 - val_loss: 0.0515 - val_accuracy: 0.9395\n",
            "Epoch 13/25\n",
            "431/431 [==============================] - 54s 125ms/step - loss: 0.1083 - accuracy: 0.8614 - val_loss: 0.0657 - val_accuracy: 0.9297\n",
            "Epoch 14/25\n",
            "431/431 [==============================] - 54s 125ms/step - loss: 0.1140 - accuracy: 0.8612 - val_loss: 0.0655 - val_accuracy: 0.9243\n",
            "Epoch 15/25\n",
            "431/431 [==============================] - 54s 125ms/step - loss: 0.1067 - accuracy: 0.8552 - val_loss: 0.0626 - val_accuracy: 0.9360\n",
            "Epoch 16/25\n",
            "431/431 [==============================] - 54s 126ms/step - loss: 0.1082 - accuracy: 0.8527 - val_loss: 0.0566 - val_accuracy: 0.9297\n",
            "Epoch 17/25\n",
            "431/431 [==============================] - 54s 124ms/step - loss: 0.1130 - accuracy: 0.8517 - val_loss: 0.0604 - val_accuracy: 0.9277\n",
            "Epoch 18/25\n",
            "431/431 [==============================] - 54s 126ms/step - loss: 0.1189 - accuracy: 0.8445 - val_loss: 0.0833 - val_accuracy: 0.9009\n",
            "Epoch 19/25\n",
            "431/431 [==============================] - 55s 127ms/step - loss: 0.1210 - accuracy: 0.8412 - val_loss: 0.0695 - val_accuracy: 0.9160\n",
            "Epoch 20/25\n",
            "431/431 [==============================] - 55s 127ms/step - loss: 0.1274 - accuracy: 0.8283 - val_loss: 0.0629 - val_accuracy: 0.9189\n",
            "Epoch 21/25\n",
            "431/431 [==============================] - 55s 128ms/step - loss: 0.1182 - accuracy: 0.8414 - val_loss: 0.0925 - val_accuracy: 0.8813\n",
            "Epoch 22/25\n",
            "431/431 [==============================] - 54s 126ms/step - loss: 0.1317 - accuracy: 0.8327 - val_loss: 0.0758 - val_accuracy: 0.9058\n",
            "Epoch 23/25\n",
            "431/431 [==============================] - 54s 126ms/step - loss: 0.1356 - accuracy: 0.8227 - val_loss: 0.1014 - val_accuracy: 0.8726\n",
            "Epoch 24/25\n",
            "431/431 [==============================] - 55s 127ms/step - loss: 0.1355 - accuracy: 0.8129 - val_loss: 0.1163 - val_accuracy: 0.8760\n",
            "Epoch 25/25\n",
            "431/431 [==============================] - 54s 126ms/step - loss: 0.1391 - accuracy: 0.8075 - val_loss: 0.0952 - val_accuracy: 0.8457\n"
          ],
          "name": "stdout"
        }
      ]
    },
    {
      "cell_type": "code",
      "metadata": {
        "outputHidden": false,
        "inputHidden": false,
        "id": "TAJUKuTViR9O",
        "colab": {
          "base_uri": "https://localhost:8080/"
        },
        "outputId": "936db479-80aa-4123-df55-f755e5af730c"
      },
      "source": [
        "train_generator.class_indices"
      ],
      "execution_count": 30,
      "outputs": [
        {
          "output_type": "execute_result",
          "data": {
            "text/plain": [
              "{'airplane': 0,\n",
              " 'car': 1,\n",
              " 'cat': 2,\n",
              " 'dog': 3,\n",
              " 'flower': 4,\n",
              " 'fruit': 5,\n",
              " 'motorbike': 6,\n",
              " 'person': 7}"
            ]
          },
          "metadata": {
            "tags": []
          },
          "execution_count": 30
        }
      ]
    },
    {
      "cell_type": "code",
      "metadata": {
        "id": "huJX5R37FBSu"
      },
      "source": [
        ""
      ],
      "execution_count": null,
      "outputs": []
    },
    {
      "cell_type": "code",
      "metadata": {
        "outputHidden": false,
        "inputHidden": false,
        "id": "GelnwIvIiR9K",
        "colab": {
          "base_uri": "https://localhost:8080/"
        },
        "outputId": "e1bc320e-e6c6-4429-a7b0-9ab45e452014"
      },
      "source": [
        "import matplotlib.pyplot as plt \n",
        "c.history.keys()"
      ],
      "execution_count": 46,
      "outputs": [
        {
          "output_type": "execute_result",
          "data": {
            "text/plain": [
              "dict_keys(['loss', 'accuracy', 'val_loss', 'val_accuracy'])"
            ]
          },
          "metadata": {
            "tags": []
          },
          "execution_count": 46
        }
      ]
    },
    {
      "cell_type": "code",
      "metadata": {
        "outputHidden": false,
        "inputHidden": false,
        "id": "SGm6tzgiiR9L",
        "colab": {
          "base_uri": "https://localhost:8080/",
          "height": 312
        },
        "outputId": "e83e41fe-cac7-4d3d-a8aa-cb4214b10798"
      },
      "source": [
        "plt.plot(c.history['loss'])\n",
        "plt.plot(c.history['val_loss'])\n",
        "plt.legend(['training','validation'])\n",
        "plt.title('loss')\n",
        "plt.xlabel('epoch')"
      ],
      "execution_count": 32,
      "outputs": [
        {
          "output_type": "execute_result",
          "data": {
            "text/plain": [
              "Text(0.5, 0, 'epoch')"
            ]
          },
          "metadata": {
            "tags": []
          },
          "execution_count": 32
        },
        {
          "output_type": "display_data",
          "data": {
            "image/png": "[encoded data removed]",
            "text/plain": [
              "<Figure size 432x288 with 1 Axes>"
            ]
          },
          "metadata": {
            "tags": [],
            "needs_background": "light"
          }
        }
      ]
    },
    {
      "cell_type": "markdown",
      "metadata": {
        "id": "u8g_8AsQiR9L"
      },
      "source": [
        "above shown is a loss function"
      ]
    },
    {
      "cell_type": "code",
      "metadata": {
        "outputHidden": false,
        "inputHidden": false,
        "id": "4H-6V_hLiR9L",
        "colab": {
          "base_uri": "https://localhost:8080/",
          "height": 312
        },
        "outputId": "4214b91f-2984-4f82-f48c-d4f07ec803b1"
      },
      "source": [
        "plt.plot(c.history['accuracy'])\n",
        "plt.plot(c.history['val_accuracy'])\n",
        "plt.legend(['training','validation'])\n",
        "plt.title('accuracy')\n",
        "plt.xlabel('epoch')"
      ],
      "execution_count": 33,
      "outputs": [
        {
          "output_type": "execute_result",
          "data": {
            "text/plain": [
              "Text(0.5, 0, 'epoch')"
            ]
          },
          "metadata": {
            "tags": []
          },
          "execution_count": 33
        },
        {
          "output_type": "display_data",
          "data": {
            "image/png": "[encoded data removed]",
            "text/plain": [
              "<Figure size 432x288 with 1 Axes>"
            ]
          },
          "metadata": {
            "tags": [],
            "needs_background": "light"
          }
        }
      ]
    },
    {
      "cell_type": "markdown",
      "metadata": {
        "id": "08ZtlWjkiR9L"
      },
      "source": [
        "above shown is an overfitting error"
      ]
    },
    {
      "cell_type": "code",
      "metadata": {
        "outputHidden": false,
        "inputHidden": false,
        "id": "EYLMY1FUiR9M"
      },
      "source": [
        "model.save_weights('model_saved.h5') "
      ],
      "execution_count": 34,
      "outputs": []
    },
    {
      "cell_type": "code",
      "metadata": {
        "outputHidden": false,
        "inputHidden": false,
        "id": "TszfDoM0iR9M"
      },
      "source": [
        "import cv2\r\n",
        "image=cv2.imread('/content/depositphotos_8807359-stock-photo-mixed-race-man-smiling.jpg')\r\n",
        "img=cv2.resize(image,(150,150))"
      ],
      "execution_count": 51,
      "outputs": []
    },
    {
      "cell_type": "code",
      "metadata": {
        "outputHidden": false,
        "inputHidden": false,
        "id": "7jBxNEociR9O"
      },
      "source": [
        "import numpy as np\n",
        "img=np.reshape(img,[1,150,150,3])"
      ],
      "execution_count": 56,
      "outputs": []
    },
    {
      "cell_type": "code",
      "metadata": {
        "outputHidden": false,
        "inputHidden": false,
        "id": "PMRMybwciR9O",
        "colab": {
          "base_uri": "https://localhost:8080/"
        },
        "outputId": "ac8c9e06-c21c-4ccc-a1c5-20b43bdabb0e"
      },
      "source": [
        "s=model.predict_classes(img)"
      ],
      "execution_count": 57,
      "outputs": [
        {
          "output_type": "stream",
          "text": [
            "/usr/local/lib/python3.6/dist-packages/tensorflow/python/keras/engine/sequential.py:450: UserWarning: `model.predict_classes()` is deprecated and will be removed after 2021-01-01. Please use instead:* `np.argmax(model.predict(x), axis=-1)`,   if your model does multi-class classification   (e.g. if it uses a `softmax` last-layer activation).* `(model.predict(x) > 0.5).astype(\"int32\")`,   if your model does binary classification   (e.g. if it uses a `sigmoid` last-layer activation).\n",
            "  warnings.warn('`model.predict_classes()` is deprecated and '\n"
          ],
          "name": "stderr"
        }
      ]
    },
    {
      "cell_type": "code",
      "metadata": {
        "outputHidden": false,
        "inputHidden": false,
        "id": "y8ts166TiR9O",
        "colab": {
          "base_uri": "https://localhost:8080/"
        },
        "outputId": "add99863-bd2e-4fe5-cb78-546839ad2aeb"
      },
      "source": [
        "s"
      ],
      "execution_count": 58,
      "outputs": [
        {
          "output_type": "execute_result",
          "data": {
            "text/plain": [
              "array([0])"
            ]
          },
          "metadata": {
            "tags": []
          },
          "execution_count": 58
        }
      ]
    },
    {
      "cell_type": "code",
      "metadata": {
        "outputHidden": false,
        "inputHidden": false,
        "id": "p6u3kEpqiR9M"
      },
      "source": [
        ""
      ],
      "execution_count": 52,
      "outputs": []
    },
    {
      "cell_type": "code",
      "metadata": {
        "outputHidden": false,
        "inputHidden": false,
        "id": "-fJdz6_5iR9M",
        "colab": {
          "base_uri": "https://localhost:8080/"
        },
        "outputId": "2b6916ac-c570-447c-89e4-2d678ec7c296"
      },
      "source": [
        "image"
      ],
      "execution_count": 53,
      "outputs": [
        {
          "output_type": "execute_result",
          "data": {
            "text/plain": [
              "array([[[186, 202, 219],\n",
              "        [182, 200, 217],\n",
              "        [181, 199, 216],\n",
              "        ...,\n",
              "        [255, 255, 255],\n",
              "        [255, 255, 255],\n",
              "        [255, 255, 255]],\n",
              "\n",
              "       [[178, 195, 214],\n",
              "        [177, 194, 213],\n",
              "        [174, 194, 212],\n",
              "        ...,\n",
              "        [255, 255, 255],\n",
              "        [255, 255, 255],\n",
              "        [255, 255, 255]],\n",
              "\n",
              "       [[169, 188, 209],\n",
              "        [168, 187, 208],\n",
              "        [165, 186, 207],\n",
              "        ...,\n",
              "        [255, 255, 255],\n",
              "        [255, 255, 255],\n",
              "        [255, 255, 255]],\n",
              "\n",
              "       ...,\n",
              "\n",
              "       [[174, 188, 211],\n",
              "        [174, 188, 211],\n",
              "        [173, 187, 210],\n",
              "        ...,\n",
              "        [ 63, 140, 167],\n",
              "        [ 62, 139, 166],\n",
              "        [ 62, 139, 166]],\n",
              "\n",
              "       [[174, 188, 211],\n",
              "        [174, 188, 211],\n",
              "        [174, 188, 211],\n",
              "        ...,\n",
              "        [ 61, 140, 167],\n",
              "        [ 60, 139, 166],\n",
              "        [ 59, 138, 165]],\n",
              "\n",
              "       [[174, 188, 211],\n",
              "        [174, 188, 211],\n",
              "        [174, 188, 211],\n",
              "        ...,\n",
              "        [ 58, 139, 166],\n",
              "        [ 60, 139, 166],\n",
              "        [ 59, 138, 165]]], dtype=uint8)"
            ]
          },
          "metadata": {
            "tags": []
          },
          "execution_count": 53
        }
      ]
    },
    {
      "cell_type": "code",
      "metadata": {
        "outputHidden": false,
        "inputHidden": false,
        "id": "lu4SUBGViR9N"
      },
      "source": [
        ""
      ],
      "execution_count": 54,
      "outputs": []
    },
    {
      "cell_type": "code",
      "metadata": {
        "outputHidden": false,
        "inputHidden": false,
        "id": "9KaYHP7yiR9N",
        "colab": {
          "base_uri": "https://localhost:8080/"
        },
        "outputId": "5ac12ef2-f684-4b15-d423-927c5b23c0f1"
      },
      "source": [
        "img"
      ],
      "execution_count": 55,
      "outputs": [
        {
          "output_type": "execute_result",
          "data": {
            "text/plain": [
              "array([[[176, 195, 213],\n",
              "        [172, 195, 213],\n",
              "        [165, 192, 213],\n",
              "        ...,\n",
              "        [255, 255, 255],\n",
              "        [255, 255, 255],\n",
              "        [255, 255, 255]],\n",
              "\n",
              "       [[155, 178, 204],\n",
              "        [153, 179, 204],\n",
              "        [150, 181, 206],\n",
              "        ...,\n",
              "        [255, 255, 255],\n",
              "        [255, 255, 255],\n",
              "        [255, 255, 255]],\n",
              "\n",
              "       [[135, 165, 191],\n",
              "        [137, 166, 193],\n",
              "        [141, 173, 198],\n",
              "        ...,\n",
              "        [255, 255, 255],\n",
              "        [255, 255, 255],\n",
              "        [255, 255, 255]],\n",
              "\n",
              "       ...,\n",
              "\n",
              "       [[173, 186, 210],\n",
              "        [169, 183, 206],\n",
              "        [169, 181, 205],\n",
              "        ...,\n",
              "        [ 61, 141, 168],\n",
              "        [ 68, 141, 169],\n",
              "        [ 72, 140, 169]],\n",
              "\n",
              "       [[172, 186, 209],\n",
              "        [169, 183, 206],\n",
              "        [169, 183, 206],\n",
              "        ...,\n",
              "        [ 66, 143, 170],\n",
              "        [ 67, 141, 169],\n",
              "        [ 66, 140, 168]],\n",
              "\n",
              "       [[174, 188, 211],\n",
              "        [174, 188, 211],\n",
              "        [173, 187, 210],\n",
              "        ...,\n",
              "        [ 62, 146, 174],\n",
              "        [ 58, 143, 169],\n",
              "        [ 60, 139, 166]]], dtype=uint8)"
            ]
          },
          "metadata": {
            "tags": []
          },
          "execution_count": 55
        }
      ]
    }
  ]
}